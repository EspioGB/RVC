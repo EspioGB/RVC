{
  "cells": [
    {
      "cell_type": "markdown",
      "metadata": {
        "id": "view-in-github",
        "colab_type": "text"
      },
      "source": [
        "<a href=\"https://colab.research.google.com/github/Blane187/HRVC/blob/main/HRVC.ipynb\" target=\"_parent\"><img src=\"https://colab.research.google.com/assets/colab-badge.svg\" alt=\"Open In Colab\"/></a>"
      ]
    },
    {
      "cell_type": "markdown",
      "metadata": {
        "id": "YYVAKuNBc-X4"
      },
      "source": [
        "\n",
        "\n",
        "# HRVC\n",
        "\n",
        "Simply click `Runtime` in the top navigation bar and `Run all`. Wait for the output of the final cell to show the public gradio url and click on it."
      ]
    },
    {
      "cell_type": "code",
      "execution_count": null,
      "metadata": {
        "id": "vC4gLMHI9xb3",
        "cellView": "form"
      },
      "outputs": [],
      "source": [
        " #@title Clone repository\n",
        "from IPython.display import clear_output, Javascript\n",
        "import codecs\n",
        "import threading\n",
        "import time\n",
        "import subprocess\n",
        "\n",
        "# cloneing=codecs.decode('uggcf://tvguho.pbz/uvanoy/NVPbireTra-Pbyno.tvg','rot_13')\n",
        "\n",
        "#=======================Auto Edit======================\n",
        "\n",
        "#@markdown ---\n",
        "#@markdown Switch between ```-1 0 1``` or ```-12 0 12``` pitch change control\n",
        "\n",
        "#@markdown This can only be changed once, you need to restart the whole thing if you wanna change it again\n",
        "Pitch_Change=\"1\" #@param ['1','12']\n",
        "\n",
        "#@markdown Enable if you want to install the Program to your Drive\n",
        "if Pitch_Change==\"1\":\n",
        "  cloneing=codecs.decode('uggcf://tvguho.pbz/Oynar187/UEIP.tvg','rot_13')\n",
        "else:\n",
        "  cloneing=codecs.decode('uggcf://tvguho.pbz/nequn27/NVPbireTra-Zbq.tvg','rot_13')\n",
        "#=====================Auto Edit End================\n",
        "Install_To_Drive=True #@param {type:\"boolean\"}\n",
        "\n",
        "\n",
        "#====================Use Drive============\n",
        "if Install_To_Drive==True:\n",
        "  from google.colab import drive\n",
        "  drive.mount('/content/drive')\n",
        "\n",
        "  !git clone $cloneing HRVC\n",
        "  !mv HRVC /content/drive/MyDrive/\n",
        "  !rm -rf sample_data\n",
        "  %cd /content/drive/MyDrive/HRVC\n",
        "else:\n",
        "  !git clone $cloneing HRVC\n",
        "  !rm -rf sample_data\n",
        "  %cd HRVC\n",
        "\n",
        "\n",
        "\n",
        "\n",
        "\n",
        "\n",
        "clear_output()\n",
        "print(\"Done Cloning Repository\")"
      ]
    },
    {
      "cell_type": "code",
      "execution_count": null,
      "metadata": {
        "id": "odzpJHpr_PaF",
        "cellView": "form"
      },
      "outputs": [],
      "source": [
        "#@title Install requirements\n",
        "!sed -i '/torch==/d' requirements.txt\n",
        "!sed -i '/torchaudio==/d' requirements.txt\n",
        "!sed -i '/numpy==/d' requirements.txt\n",
        "!sed -i '/librosa==/d' requirements.txt\n",
        "!sed -i '/Requests==/d' requirements.txt\n",
        "!sed -i '/scipy==/d' requirements.txt\n",
        "!sed -i '/soundfile==/d' requirements.txt\n",
        "!sed -i '/tqdm==/d' requirements.txt\n",
        "\n",
        "!pip install -q -r requirements.txt\n",
        "\n",
        "subprocess.run([\"pip\", \"install\", \"gradio-client==0.8.1\"])\n",
        "subprocess.run([\"pip\", \"install\", \"gradio==3.48.0\"])\n",
        "\n",
        "# Install CUDA fix\n",
        "subprocess.run([\"python\", \"-m\", \"pip\", \"install\", \"ort-nightly-gpu\", \"--index-url=https://aiinfra.pkgs.visualstudio.com/PublicPackages/_packaging/ort-cuda-12-nightly/pypi/simple/\"])\n",
        "\n",
        "clear_output()\n",
        "print(\"Finished Installing Requirements\")\n",
        "!sudo apt update\n",
        "clear_output()\n",
        "print(\"Finished Updating\")\n",
        "!sudo apt install sox\n",
        "clear_output()\n",
        "print(\"Finsihed running this cell, proceed to the next cell\")"
      ]
    },
    {
      "cell_type": "code",
      "execution_count": null,
      "metadata": {
        "id": "SLWpcJc0AHSZ",
        "cellView": "form"
      },
      "outputs": [],
      "source": [
        "#@title Download MDXNet Vocal Separation and Hubert Base Models\n",
        "models=codecs.decode('fep/qbjaybnq_zbqryf.cl','rot_13')\n",
        "!python $models\n",
        "clear_output()\n",
        "print(\"Finished Downloading Voice Separation Model and Hubert Base Model\")"
      ]
    },
    {
      "cell_type": "code",
      "execution_count": null,
      "metadata": {
        "id": "NEglTq6Ya9d0",
        "cellView": "form"
      },
      "outputs": [],
      "source": [
        "#@title Run WebUI\n",
        "runpice=codecs.decode('fep/jrohv.cl','rot_13')\n",
        "!python $runpice --share"
      ]
    }
  ],
  "metadata": {
    "accelerator": "GPU",
    "colab": {
      "gpuType": "T4",
      "provenance": [],
      "private_outputs": true,
      "cell_execution_strategy": "setup",
      "include_colab_link": true
    },
    "kernelspec": {
      "display_name": "Python 3",
      "name": "python3"
    },
    "language_info": {
      "name": "python"
    }
  },
  "nbformat": 4,
  "nbformat_minor": 0
}